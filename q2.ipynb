{
  "nbformat": 4,
  "nbformat_minor": 0,
  "metadata": {
    "colab": {
      "provenance": []
    },
    "kernelspec": {
      "name": "python3",
      "display_name": "Python 3"
    },
    "language_info": {
      "name": "python"
    }
  },
  "cells": [
    {
      "cell_type": "markdown",
      "source": [
        "#Câu a"
      ],
      "metadata": {
        "id": "E5nc_BlWJiIT"
      }
    },
    {
      "cell_type": "code",
      "execution_count": null,
      "metadata": {
        "colab": {
          "base_uri": "https://localhost:8080/"
        },
        "id": "xrsXja4tWnJs",
        "outputId": "38756ab1-d2e5-4756-c619-b65d939591e4"
      },
      "outputs": [
        {
          "output_type": "stream",
          "name": "stdout",
          "text": [
            "Looking in indexes: https://pypi.org/simple, https://us-python.pkg.dev/colab-wheels/public/simple/\n",
            "Collecting pyspark\n",
            "  Downloading pyspark-3.3.2.tar.gz (281.4 MB)\n",
            "\u001b[2K     \u001b[90m━━━━━━━━━━━━━━━━━━━━━━━━━━━━━━━━━━━━━━━\u001b[0m \u001b[32m281.4/281.4 MB\u001b[0m \u001b[31m4.0 MB/s\u001b[0m eta \u001b[36m0:00:00\u001b[0m\n",
            "\u001b[?25h  Preparing metadata (setup.py) ... \u001b[?25l\u001b[?25hdone\n",
            "Collecting py4j==0.10.9.5\n",
            "  Downloading py4j-0.10.9.5-py2.py3-none-any.whl (199 kB)\n",
            "\u001b[2K     \u001b[90m━━━━━━━━━━━━━━━━━━━━━━━━━━━━━━━━━━━━━━\u001b[0m \u001b[32m199.7/199.7 KB\u001b[0m \u001b[31m15.0 MB/s\u001b[0m eta \u001b[36m0:00:00\u001b[0m\n",
            "\u001b[?25hBuilding wheels for collected packages: pyspark\n",
            "  Building wheel for pyspark (setup.py) ... \u001b[?25l\u001b[?25hdone\n",
            "  Created wheel for pyspark: filename=pyspark-3.3.2-py2.py3-none-any.whl size=281824028 sha256=cc2c7c4270b26ab032a875f47033f9dc270f39457c3e770b41f07b7ecb1ae015\n",
            "  Stored in directory: /root/.cache/pip/wheels/6c/e3/9b/0525ce8a69478916513509d43693511463c6468db0de237c86\n",
            "Successfully built pyspark\n",
            "Installing collected packages: py4j, pyspark\n",
            "  Attempting uninstall: py4j\n",
            "    Found existing installation: py4j 0.10.9.7\n",
            "    Uninstalling py4j-0.10.9.7:\n",
            "      Successfully uninstalled py4j-0.10.9.7\n",
            "Successfully installed py4j-0.10.9.5 pyspark-3.3.2\n",
            "The following additional packages will be installed:\n",
            "  openjdk-8-jre-headless\n",
            "Suggested packages:\n",
            "  openjdk-8-demo openjdk-8-source libnss-mdns fonts-dejavu-extra\n",
            "  fonts-ipafont-gothic fonts-ipafont-mincho fonts-wqy-microhei\n",
            "  fonts-wqy-zenhei fonts-indic\n",
            "The following NEW packages will be installed:\n",
            "  openjdk-8-jdk-headless openjdk-8-jre-headless\n",
            "0 upgraded, 2 newly installed, 0 to remove and 23 not upgraded.\n",
            "Need to get 36.5 MB of archives.\n",
            "After this operation, 144 MB of additional disk space will be used.\n",
            "Selecting previously unselected package openjdk-8-jre-headless:amd64.\n",
            "(Reading database ... 128285 files and directories currently installed.)\n",
            "Preparing to unpack .../openjdk-8-jre-headless_8u362-ga-0ubuntu1~20.04.1_amd64.deb ...\n",
            "Unpacking openjdk-8-jre-headless:amd64 (8u362-ga-0ubuntu1~20.04.1) ...\n",
            "Selecting previously unselected package openjdk-8-jdk-headless:amd64.\n",
            "Preparing to unpack .../openjdk-8-jdk-headless_8u362-ga-0ubuntu1~20.04.1_amd64.deb ...\n",
            "Unpacking openjdk-8-jdk-headless:amd64 (8u362-ga-0ubuntu1~20.04.1) ...\n",
            "Setting up openjdk-8-jre-headless:amd64 (8u362-ga-0ubuntu1~20.04.1) ...\n",
            "update-alternatives: using /usr/lib/jvm/java-8-openjdk-amd64/jre/bin/orbd to provide /usr/bin/orbd (orbd) in auto mode\n",
            "update-alternatives: using /usr/lib/jvm/java-8-openjdk-amd64/jre/bin/servertool to provide /usr/bin/servertool (servertool) in auto mode\n",
            "update-alternatives: using /usr/lib/jvm/java-8-openjdk-amd64/jre/bin/tnameserv to provide /usr/bin/tnameserv (tnameserv) in auto mode\n",
            "Setting up openjdk-8-jdk-headless:amd64 (8u362-ga-0ubuntu1~20.04.1) ...\n",
            "update-alternatives: using /usr/lib/jvm/java-8-openjdk-amd64/bin/idlj to provide /usr/bin/idlj (idlj) in auto mode\n",
            "update-alternatives: using /usr/lib/jvm/java-8-openjdk-amd64/bin/wsimport to provide /usr/bin/wsimport (wsimport) in auto mode\n",
            "update-alternatives: using /usr/lib/jvm/java-8-openjdk-amd64/bin/jsadebugd to provide /usr/bin/jsadebugd (jsadebugd) in auto mode\n",
            "update-alternatives: using /usr/lib/jvm/java-8-openjdk-amd64/bin/native2ascii to provide /usr/bin/native2ascii (native2ascii) in auto mode\n",
            "update-alternatives: using /usr/lib/jvm/java-8-openjdk-amd64/bin/javah to provide /usr/bin/javah (javah) in auto mode\n",
            "update-alternatives: using /usr/lib/jvm/java-8-openjdk-amd64/bin/hsdb to provide /usr/bin/hsdb (hsdb) in auto mode\n",
            "update-alternatives: using /usr/lib/jvm/java-8-openjdk-amd64/bin/clhsdb to provide /usr/bin/clhsdb (clhsdb) in auto mode\n",
            "update-alternatives: using /usr/lib/jvm/java-8-openjdk-amd64/bin/xjc to provide /usr/bin/xjc (xjc) in auto mode\n",
            "update-alternatives: using /usr/lib/jvm/java-8-openjdk-amd64/bin/schemagen to provide /usr/bin/schemagen (schemagen) in auto mode\n",
            "update-alternatives: using /usr/lib/jvm/java-8-openjdk-amd64/bin/extcheck to provide /usr/bin/extcheck (extcheck) in auto mode\n",
            "update-alternatives: using /usr/lib/jvm/java-8-openjdk-amd64/bin/jhat to provide /usr/bin/jhat (jhat) in auto mode\n",
            "update-alternatives: using /usr/lib/jvm/java-8-openjdk-amd64/bin/wsgen to provide /usr/bin/wsgen (wsgen) in auto mode\n"
          ]
        }
      ],
      "source": [
        "!pip install pyspark\n",
        "!pip install -U -q PyDrive\n",
        "!apt install openjdk-8-jdk-headless -qq\n",
        "import os\n",
        "os.environ[\"JAVA_HOME\"] = \"/usr/lib/jvm/java-8-openjdk-amd64\""
      ]
    },
    {
      "cell_type": "code",
      "source": [
        "from pydrive.auth import GoogleAuth\n",
        "from pydrive.drive import GoogleDrive\n",
        "from google.colab import auth\n",
        "from oauth2client.client import GoogleCredentials\n",
        "\n",
        "# Lưu vào drive\n",
        "auth.authenticate_user()\n",
        "gauth = GoogleAuth()\n",
        "gauth.credentials = GoogleCredentials.get_application_default()\n",
        "drive = GoogleDrive(gauth)"
      ],
      "metadata": {
        "id": "v7SzwWtsWuTh"
      },
      "execution_count": null,
      "outputs": []
    },
    {
      "cell_type": "code",
      "source": [
        "id='1E-voIV2ctU4Brw022Na8RHVVRGOoNkO1'\n",
        "downloaded = drive.CreateFile({'id': id})\n",
        "downloaded.GetContentFile('data.txt')\n",
        "\n",
        "id='1yXNlZWMqUcAwDScBrkFChOHJwR1FZXmI'\n",
        "downloaded = drive.CreateFile({'id': id})\n",
        "downloaded.GetContentFile('c1.txt')\n",
        "\n",
        "id='1vfovle9DgaeK0LnbQTH0j7kRaJjsvLtb'\n",
        "downloaded = drive.CreateFile({'id': id})\n",
        "downloaded.GetContentFile('c2.txt')"
      ],
      "metadata": {
        "id": "hTR3glElWxu9"
      },
      "execution_count": null,
      "outputs": []
    },
    {
      "cell_type": "code",
      "source": [
        "import pandas as pd\n",
        "import numpy as np\n",
        "import matplotlib.pyplot as plt\n",
        "%matplotlib inline\n",
        "\n",
        "import pyspark\n",
        "from pyspark.sql import *\n",
        "from pyspark.sql.functions import *\n",
        "from pyspark import SparkContext, SparkConf"
      ],
      "metadata": {
        "id": "Y_4B2esSW1EG"
      },
      "execution_count": null,
      "outputs": []
    },
    {
      "cell_type": "code",
      "source": [
        "# Tạo session\n",
        "conf = SparkConf().set(\"spark.ui.port\", \"4050\")\n",
        "\n",
        "# Tạo context\n",
        "sc = pyspark.SparkContext(conf=conf)\n",
        "spark = SparkSession.builder.getOrCreate()"
      ],
      "metadata": {
        "id": "xBylvO1VW1jS"
      },
      "execution_count": null,
      "outputs": []
    },
    {
      "cell_type": "code",
      "source": [
        "def parseVector(line):\n",
        "  return np.array([float(x) for x in line.split(\" \")])"
      ],
      "metadata": {
        "id": "9QSL67bqW4KW"
      },
      "execution_count": null,
      "outputs": []
    },
    {
      "cell_type": "code",
      "source": [
        "def closestPoint(p, centroids, method = 'd2'):\n",
        "  bestIndex = -1\n",
        "  distance = float(\"+inf\")\n",
        "  for i in range(len(centroids)):\n",
        "    if method == 'd2':\n",
        "      temp_distance = np.sum((p - centroids[i]) ** 2)\n",
        "    elif method == 'd1':\n",
        "      temp_distance = np.sum(np.abs(p - centroids[i]))\n",
        "\n",
        "    if temp_distance < distance:\n",
        "      distance = temp_distance\n",
        "      bestIndex = i\n",
        "\n",
        "  return bestIndex, distance"
      ],
      "metadata": {
        "id": "O2Q-ZUzQW6EK"
      },
      "execution_count": null,
      "outputs": []
    },
    {
      "cell_type": "code",
      "source": [
        "data = spark.read.text('data.txt').rdd.map(lambda x: x[0]).map(parseVector)\n",
        "c1 = np.loadtxt('c1.txt', delimiter = ' ')\n",
        "c2 = np.loadtxt('c2.txt', delimiter = ' ')"
      ],
      "metadata": {
        "id": "p30g3JPhXHAC"
      },
      "execution_count": null,
      "outputs": []
    },
    {
      "cell_type": "code",
      "source": [
        "MAX_ITER = 20"
      ],
      "metadata": {
        "id": "XhUlLOrdXCfA"
      },
      "execution_count": null,
      "outputs": []
    },
    {
      "cell_type": "code",
      "source": [
        "centroids1 = c1.copy()\n",
        "centroids2 = c2.copy()\n",
        "\n",
        "error_c1_Euclidean_distance = []\n",
        "error_c2_Euclidean_distance = []\n",
        "\n",
        "for ITER in range(MAX_ITER):\n",
        "  closest = data.map(lambda p: (closestPoint(p, centroids1, 'd2')[0], (p, 1, closestPoint(p, centroids1, 'd2')[1])))\n",
        "  pointStats = closest.reduceByKey(lambda p1_c1, p2_c2: (p1_c1[0] + p2_c2[0], p1_c1[1] + p2_c2[1]))\n",
        "  newCentroids = pointStats.map(lambda st: (st[0], st[1][0] / st[1][1])).collect()\n",
        "\n",
        "  error = np.sum(np.array(list(x[1][2] for x in closest.collect())))\n",
        "  error_c1_Euclidean_distance.append(error)\n",
        "\n",
        "  for (i, p) in newCentroids:\n",
        "    centroids1[i] = p\n",
        "\n",
        "for ITER in range(MAX_ITER):\n",
        "  closest = data.map(lambda p: (closestPoint(p, centroids2, 'd2')[0], (p, 1, closestPoint(p, centroids2, 'd2')[1])))\n",
        "  pointStats = closest.reduceByKey(lambda p1_c1, p2_c2: (p1_c1[0] + p2_c2[0], p1_c1[1] + p2_c2[1]))\n",
        "  newCentroids = pointStats.map(lambda st: (st[0], st[1][0] / st[1][1])).collect()\n",
        "\n",
        "  error = np.sum(np.array(list(x[1][2] for x in closest.collect())))\n",
        "  error_c2_Euclidean_distance.append(error)\n",
        "\n",
        "  for (i, p) in newCentroids:\n",
        "    centroids2[i] = p"
      ],
      "metadata": {
        "id": "Pnhz8H3_XU2B"
      },
      "execution_count": null,
      "outputs": []
    },
    {
      "cell_type": "code",
      "source": [
        "plt.figure()\n",
        "plt.plot(list(range(1, 21)), np.array(error_c1_Euclidean_distance) / 100000000, label ='c1')\n",
        "plt.plot(list(range(1, 21)), np.array(error_c2_Euclidean_distance) / 100000000, label = 'c2')\n",
        "plt.xticks(list(range(1, 21, 2)))\n",
        "plt.xlabel('iteration')\n",
        "plt.ylabel('cost (1e8)')\n",
        "plt.title('k-means using Euclidean distance')\n",
        "plt.legend(['c1', 'c2'])\n",
        "plt.savefig('Euclidean_distance.png')\n",
        "plt.show()"
      ],
      "metadata": {
        "colab": {
          "base_uri": "https://localhost:8080/",
          "height": 295
        },
        "id": "ETvrvcu2Xbaz",
        "outputId": "c4a7461e-adcf-4445-962b-e7c71a58af0f"
      },
      "execution_count": null,
      "outputs": [
        {
          "output_type": "display_data",
          "data": {
            "text/plain": [
              "<Figure size 432x288 with 1 Axes>"
            ],
            "image/png": "[encoded data removed]"
          },
          "metadata": {
            "needs_background": "light"
          }
        }
      ]
    },
    {
      "cell_type": "code",
      "source": [
        "print(\"Phần trăm thay đổi ở c1 bằng Euclidean distance là :{}\".format((error_c1_Euclidean_distance[0] - error_c1_Euclidean_distance[10]) / error_c1_Euclidean_distance[0]))\n",
        "print(\"Phần trăm thay đổi ở c2 bằng Euclidean distance là :{}\".format((error_c2_Euclidean_distance[0] - error_c2_Euclidean_distance[10]) / error_c2_Euclidean_distance[0]))"
      ],
      "metadata": {
        "colab": {
          "base_uri": "https://localhost:8080/"
        },
        "id": "BupJAIxXXt1w",
        "outputId": "f78ae872-433b-420f-872e-45f642671424"
      },
      "execution_count": null,
      "outputs": [
        {
          "output_type": "stream",
          "name": "stdout",
          "text": [
            "Phần trăm thay đổi ở c1 bằng Euclidean distance là :0.2648391714456054\n",
            "Phần trăm thay đổi ở c2 bằng Euclidean distance là :0.7669795594605942\n"
          ]
        }
      ]
    },
    {
      "cell_type": "markdown",
      "source": [
        "#Câu b"
      ],
      "metadata": {
        "id": "Q0RhZLs5cu6X"
      }
    },
    {
      "cell_type": "code",
      "source": [
        "!pip install pyspark\n",
        "!pip install -U -q PyDrive\n",
        "!apt install openjdk-8-jdk-headless -qq\n",
        "import os\n",
        "os.environ[\"JAVA_HOME\"] = \"/usr/lib/jvm/java-8-openjdk-amd64\""
      ],
      "metadata": {
        "colab": {
          "base_uri": "https://localhost:8080/"
        },
        "id": "9mj63yh0cuLM",
        "outputId": "84634a0c-5d61-4754-8b5d-84349371d68a"
      },
      "execution_count": null,
      "outputs": [
        {
          "output_type": "stream",
          "name": "stdout",
          "text": [
            "Looking in indexes: https://pypi.org/simple, https://us-python.pkg.dev/colab-wheels/public/simple/\n",
            "Requirement already satisfied: pyspark in /usr/local/lib/python3.9/dist-packages (3.3.2)\n",
            "Requirement already satisfied: py4j==0.10.9.5 in /usr/local/lib/python3.9/dist-packages (from pyspark) (0.10.9.5)\n",
            "openjdk-8-jdk-headless is already the newest version (8u362-ga-0ubuntu1~20.04.1).\n",
            "0 upgraded, 0 newly installed, 0 to remove and 23 not upgraded.\n"
          ]
        }
      ]
    },
    {
      "cell_type": "code",
      "source": [
        "id='1E-voIV2ctU4Brw022Na8RHVVRGOoNkO1'\n",
        "downloaded = drive.CreateFile({'id': id})\n",
        "downloaded.GetContentFile('data.txt')\n",
        "\n",
        "id='1yXNlZWMqUcAwDScBrkFChOHJwR1FZXmI'\n",
        "downloaded = drive.CreateFile({'id': id})\n",
        "downloaded.GetContentFile('c1.txt')\n",
        "\n",
        "id='1vfovle9DgaeK0LnbQTH0j7kRaJjsvLtb'\n",
        "downloaded = drive.CreateFile({'id': id})\n",
        "downloaded.GetContentFile('c2.txt')"
      ],
      "metadata": {
        "id": "IYiLQFFbcz8w"
      },
      "execution_count": null,
      "outputs": []
    },
    {
      "cell_type": "code",
      "source": [
        "import pandas as pd\n",
        "import numpy as np\n",
        "import matplotlib.pyplot as plt\n",
        "%matplotlib inline\n",
        "\n",
        "import pyspark\n",
        "from pyspark.sql import *\n",
        "from pyspark.sql.functions import *\n",
        "from pyspark import SparkContext, SparkConf\n",
        "     "
      ],
      "metadata": {
        "id": "o78j2t2xc0Bl"
      },
      "execution_count": null,
      "outputs": []
    },
    {
      "cell_type": "code",
      "source": [
        "def parseVector(line):\n",
        "  return np.array([float(x) for x in line.split(\" \")])\n",
        "\n",
        "def closestPoint(p, centroids, method = 'd2'):\n",
        "  bestIndex = -1\n",
        "  distance = float(\"+inf\")\n",
        "  for i in range(len(centroids)):\n",
        "    if method == 'd2':\n",
        "      temp_distance = np.sum((p - centroids[i]) ** 2)\n",
        "    elif method == 'd1':\n",
        "      temp_distance = np.sum(np.abs(p - centroids[i]))\n",
        "\n",
        "    if temp_distance < distance:\n",
        "      distance = temp_distance\n",
        "      bestIndex = i\n",
        "\n",
        "  return bestIndex, distance\n",
        "     "
      ],
      "metadata": {
        "id": "42Lcgg3Qc0HU"
      },
      "execution_count": null,
      "outputs": []
    },
    {
      "cell_type": "code",
      "source": [
        "data = spark.read.text('data.txt').rdd.map(lambda x: x[0]).map(parseVector)\n",
        "c1 = np.loadtxt('c1.txt', delimiter = ' ')\n",
        "c2 = np.loadtxt('c2.txt', delimiter = ' ')"
      ],
      "metadata": {
        "id": "LWu4_5Q9dBSJ"
      },
      "execution_count": null,
      "outputs": []
    },
    {
      "cell_type": "code",
      "source": [
        "MAX_ITER = 20\n",
        "\n",
        "centroids1 = c1.copy()\n",
        "centroids2 = c2.copy()\n",
        "\n",
        "error_c1_Manhattan_distance = []\n",
        "error_c2_Manhattan_distance = []\n",
        "\n",
        "for ITER in range(MAX_ITER):\n",
        "  closest = data.map(lambda p: (closestPoint(p, centroids1, 'd1')[0], (p, 1, closestPoint(p, centroids1, 'd1')[1])))\n",
        "  pointStats = closest.reduceByKey(lambda p1_c1, p2_c2: (p1_c1[0] + p2_c2[0], p1_c1[1] + p2_c2[1]))\n",
        "  newCentroids = pointStats.map(lambda st: (st[0], st[1][0] / st[1][1])).collect()\n",
        "\n",
        "  error = np.sum(np.array(list(x[1][2] for x in closest.collect())))\n",
        "  error_c1_Manhattan_distance.append(error)\n",
        "\n",
        "  for (i, p) in newCentroids:\n",
        "    centroids1[i] = p\n",
        "\n",
        "for ITER in range(MAX_ITER):\n",
        "  closest = data.map(lambda p: (closestPoint(p, centroids2, 'd1')[0], (p, 1, closestPoint(p, centroids2, 'd1')[1])))\n",
        "  pointStats = closest.reduceByKey(lambda p1_c1, p2_c2: (p1_c1[0] + p2_c2[0], p1_c1[1] + p2_c2[1]))\n",
        "  newCentroids = pointStats.map(lambda st: (st[0], st[1][0] / st[1][1])).collect()\n",
        "\n",
        "  error = np.sum(np.array(list(x[1][2] for x in closest.collect())))\n",
        "  error_c2_Manhattan_distance.append(error)\n",
        "\n",
        "  for (i, p) in newCentroids:\n",
        "    centroids2[i] = p"
      ],
      "metadata": {
        "id": "4dwfm15Nc0Js"
      },
      "execution_count": null,
      "outputs": []
    },
    {
      "cell_type": "code",
      "source": [
        "plt.figure()\n",
        "plt.plot(list(range(1, 21)), np.array(error_c1_Manhattan_distance), label = 'c1')\n",
        "plt.plot(list(range(1, 21)), np.array(error_c2_Manhattan_distance), label = 'c2')\n",
        "plt.xticks(list(range(1, 21, 2)))\n",
        "plt.xlabel('iteration')\n",
        "plt.ylabel('cost')\n",
        "plt.legend(['c1', 'c2'])\n",
        "plt.title('k-means using Manhattan distance')\n",
        "plt.savefig('Manhattan_distance.png')\n",
        "plt.show()"
      ],
      "metadata": {
        "colab": {
          "base_uri": "https://localhost:8080/",
          "height": 295
        },
        "id": "nNCj4xXTc0MX",
        "outputId": "16b394e5-5a2b-40da-c7d2-d55fb4912b4d"
      },
      "execution_count": null,
      "outputs": [
        {
          "output_type": "display_data",
          "data": {
            "text/plain": [
              "<Figure size 432x288 with 1 Axes>"
            ],
            "image/png": "[encoded data removed]"
          },
          "metadata": {
            "needs_background": "light"
          }
        }
      ]
    },
    {
      "cell_type": "code",
      "source": [
        "print(\"Phần trăm thay đổi ở c1 bằng Manhattan distance là :{}\".format((error_c1_Manhattan_distance[0] - error_c1_Manhattan_distance[10]) / error_c1_Manhattan_distance[0]))\n",
        "print(\"Phần trăm thay đổi ở c2 bằng Manhattan distance là :{}\".format((error_c2_Manhattan_distance[0] - error_c2_Manhattan_distance[10]) / error_c2_Manhattan_distance[0]))\n"
      ],
      "metadata": {
        "colab": {
          "base_uri": "https://localhost:8080/"
        },
        "id": "XVHAzQoPdHOW",
        "outputId": "0475fda0-f487-429f-ca07-4e5be6130d69"
      },
      "execution_count": null,
      "outputs": [
        {
          "output_type": "stream",
          "name": "stdout",
          "text": [
            "Phần trăm thay đổi ở c1 bằng Manhattan distance là :0.18654926116799248\n",
            "Phần trăm thay đổi ở c2 bằng Manhattan distance là :0.5155409910238924\n"
          ]
        }
      ]
    }
  ]
}