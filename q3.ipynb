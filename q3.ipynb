{
  "nbformat": 4,
  "nbformat_minor": 0,
  "metadata": {
    "colab": {
      "provenance": []
    },
    "kernelspec": {
      "name": "python3",
      "display_name": "Python 3"
    },
    "language_info": {
      "name": "python"
    }
  },
  "cells": [
    {
      "cell_type": "code",
      "execution_count": null,
      "metadata": {
        "id": "3230EkzRf-Ku"
      },
      "outputs": [],
      "source": [
        "import numpy as np\n",
        "import matplotlib.pyplot as plt"
      ]
    },
    {
      "cell_type": "code",
      "source": [
        "k = 20\n",
        "LAMBDA = 0.1\n",
        "lr = 0.02\n",
        "MAX_ITERS = 40\n",
        "training_file = 'ratings.train.txt'\n",
        "openfile = open(training_file, 'r')\n",
        "\n",
        "min_user_id = 1000000000\n",
        "max_user_id = -1000000000\n",
        "min_item_id = 1000000000\n",
        "max_item_id = -1000000000\n",
        "\n",
        "for line in openfile:\n",
        "  user_id, item_id, rating = list(int(x) for x in line.strip().split(\"\\t\"))\n",
        "\n",
        "  if user_id < min_user_id: min_user_id = user_id\n",
        "  if user_id > max_user_id: max_user_id = user_id\n",
        "  if item_id < min_item_id: min_item_id = item_id\n",
        "  if item_id > max_item_id: max_item_id = item_id"
      ],
      "metadata": {
        "id": "0uCfbmqigBdl"
      },
      "execution_count": null,
      "outputs": []
    },
    {
      "cell_type": "code",
      "source": [
        "Q = np.random.rand(max_item_id, k) * 0.5\n",
        "P = np.random.rand(max_user_id, k) * 0.5\n",
        "\n",
        "Iteration = []\n",
        "E_list = []\n",
        "\n",
        "for iter in range(MAX_ITERS):\n",
        "  openfile.seek(0)\n",
        "  for line in openfile:\n",
        "    u, i, r = list(int(x) for x in line.strip().split(\"\\t\"))\n",
        "    u -= 1\n",
        "    i -= 1\n",
        "    epsilon_iu = 2 * (r - Q[i] @ P[u].T)\n",
        "    Q_i_new = Q[i] + lr * (epsilon_iu * P[u] - 2 * LAMBDA * Q[i])\n",
        "    P_u_new = P[u] + lr * (epsilon_iu * Q[i] - 2 * LAMBDA * P[u])\n",
        "    Q[i] = Q_i_new\n",
        "    P[u] = P_u_new\n",
        "\n",
        "  openfile.seek(0)\n",
        "  E = 0\n",
        "  for line in openfile:\n",
        "    u, i, r = list(int(x) for x in line.strip().split(\"\\t\"))\n",
        "    u -= 1\n",
        "    i -= 1\n",
        "    E += (r - Q[i] @ P[u].T) ** 2\n",
        "  E += LAMBDA * (np.sum(P ** 2) + np.sum(Q ** 2))\n",
        "  E_list.append(E)\n",
        "  Iteration.append(iter + 1)\n",
        "  print(\"Iteration {}, error E is: {}\".format(iter + 1, E))"
      ],
      "metadata": {
        "colab": {
          "base_uri": "https://localhost:8080/"
        },
        "id": "wcnL-g9KgFcJ",
        "outputId": "96b54958-adbd-4fc3-81f3-5d1c85c34868"
      },
      "execution_count": null,
      "outputs": [
        {
          "output_type": "stream",
          "name": "stdout",
          "text": [
            "Iteration 1, error E is: 88465.28317924593\n",
            "Iteration 2, error E is: 86631.42167632809\n",
            "Iteration 3, error E is: 84034.14437651816\n",
            "Iteration 4, error E is: 80688.89847157191\n",
            "Iteration 5, error E is: 77604.57021507598\n",
            "Iteration 6, error E is: 74651.52011214384\n",
            "Iteration 7, error E is: 71820.8843328883\n",
            "Iteration 8, error E is: 69270.44571664394\n",
            "Iteration 9, error E is: 67083.90277628263\n",
            "Iteration 10, error E is: 65249.93573775429\n",
            "Iteration 11, error E is: 63719.06816418372\n",
            "Iteration 12, error E is: 62438.760798897085\n",
            "Iteration 13, error E is: 61363.91829806421\n",
            "Iteration 14, error E is: 60457.70158630893\n",
            "Iteration 15, error E is: 59690.18125509664\n",
            "Iteration 16, error E is: 59036.979011404954\n",
            "Iteration 17, error E is: 58478.20845950729\n",
            "Iteration 18, error E is: 57997.64924283865\n",
            "Iteration 19, error E is: 57582.07939097029\n",
            "Iteration 20, error E is: 57220.72416688349\n",
            "Iteration 21, error E is: 56904.79904012075\n",
            "Iteration 22, error E is: 56627.13219643725\n",
            "Iteration 23, error E is: 56381.85491818968\n",
            "Iteration 24, error E is: 56164.149527490255\n",
            "Iteration 25, error E is: 55970.04557176541\n",
            "Iteration 26, error E is: 55796.25591168864\n",
            "Iteration 27, error E is: 55640.045410838604\n",
            "Iteration 28, error E is: 55499.12598917051\n",
            "Iteration 29, error E is: 55371.57282789809\n",
            "Iteration 30, error E is: 55255.75745009616\n",
            "Iteration 31, error E is: 55150.29421876454\n",
            "Iteration 32, error E is: 55053.997482583916\n",
            "Iteration 33, error E is: 54965.84716498926\n",
            "Iteration 34, error E is: 54884.961048432284\n",
            "Iteration 35, error E is: 54810.57237031621\n",
            "Iteration 36, error E is: 54742.01163681971\n",
            "Iteration 37, error E is: 54678.69179045863\n",
            "Iteration 38, error E is: 54620.09604916963\n",
            "Iteration 39, error E is: 54565.76787862985\n",
            "Iteration 40, error E is: 54515.30267328286\n"
          ]
        }
      ]
    },
    {
      "cell_type": "code",
      "source": [
        "plt.figure()\n",
        "plt.plot(Iteration, E_list)\n",
        "plt.xlabel('Iteration')\n",
        "plt.ylabel('Error')\n",
        "plt.title('Stochastic Gradient Descent: Error vs. Iterations')\n",
        "plt.savefig('q3.png')\n",
        "plt.show()"
      ],
      "metadata": {
        "colab": {
          "base_uri": "https://localhost:8080/",
          "height": 295
        },
        "id": "Y9Lb8tPYgOiD",
        "outputId": "d481860e-cc43-483a-8345-97d22358fb7a"
      },
      "execution_count": null,
      "outputs": [
        {
          "output_type": "display_data",
          "data": {
            "text/plain": [
              "<Figure size 432x288 with 1 Axes>"
            ],
            "image/png": "[encoded data removed]"
          },
          "metadata": {
            "needs_background": "light"
          }
        }
      ]
    }
  ]
}