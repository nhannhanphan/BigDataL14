{
  "nbformat": 4,
  "nbformat_minor": 0,
  "metadata": {
    "colab": {
      "provenance": []
    },
    "kernelspec": {
      "name": "python3",
      "display_name": "Python 3"
    },
    "language_info": {
      "name": "python"
    }
  },
  "cells": [
    {
      "cell_type": "code",
      "execution_count": 1,
      "metadata": {
        "id": "4cduIWWs2wm0"
      },
      "outputs": [],
      "source": [
        "import numpy as np\n",
        "from numpy.linalg import inv"
      ]
    },
    {
      "cell_type": "code",
      "source": [
        "R = np.loadtxt('user-shows.txt')\n",
        "P = np.zeros((R.shape[0], R.shape[0]))\n",
        "Q = np.zeros((R.shape[1], R.shape[1]))\n",
        "\n",
        "shows_file = 'shows.txt'\n",
        "shows_list = []\n",
        "\n",
        "f = open(shows_file, 'r')\n",
        "for line in f:\n",
        "  shows_name = line.strip().replace('\"', '')\n",
        "  shows_list.append(shows_name)"
      ],
      "metadata": {
        "id": "X16pjCJR9lN4"
      },
      "execution_count": 3,
      "outputs": []
    },
    {
      "cell_type": "code",
      "source": [
        "R_row_sum = R.sum(axis = 0)\n",
        "R_col_sum = R.sum(axis = 1)\n",
        "\n",
        "for i in range(len(R_col_sum)):\n",
        "  P[i, i] = R_col_sum[i]\n",
        "\n",
        "for i in range(len(R_row_sum)):\n",
        "  Q[i, i] = R_row_sum[i]"
      ],
      "metadata": {
        "id": "3XFIKHe-9qi4"
      },
      "execution_count": 4,
      "outputs": []
    },
    {
      "cell_type": "code",
      "source": [
        "Gamma_uu = (inv(P) ** 0.5) @ R @ R.T @(inv(P) ** 0.5) @ R\n",
        "Gamma_ii = R @(inv(Q) ** 0.5) @ R.T @ R @ (inv(Q) ** 0.5)"
      ],
      "metadata": {
        "id": "JO1segXo9q8t"
      },
      "execution_count": 5,
      "outputs": []
    },
    {
      "cell_type": "code",
      "source": [
        "top5_uu_indexes = (-Gamma_uu[499, :100]).argsort()[:5]\n",
        "print(\"Tên của 5 chương trình tivi có điểm similarity cao nhất \\nđối với lọc cộng tác theo user-user là:\\n\")\n",
        "for index in top5_uu_indexes:\n",
        "  print(\"{}, with similarity score {}\".format(shows_list[index], Gamma_uu[499, index]))"
      ],
      "metadata": {
        "colab": {
          "base_uri": "https://localhost:8080/"
        },
        "id": "zk97usa_9tL5",
        "outputId": "f23dbad4-678c-4cc8-a76d-bd78ca11621e"
      },
      "execution_count": 8,
      "outputs": [
        {
          "output_type": "stream",
          "name": "stdout",
          "text": [
            "Tên của 5 chương trình tivi có điểm similarity cao nhất \n",
            "đối với lọc cộng tác theo user-user là:\n",
            "\n",
            "FOX 28 News at 10pm, with similarity score 908.4800534761279\n",
            "Family Guy, with similarity score 861.17599928733\n",
            "2009 NCAA Basketball Tournament, with similarity score 827.6012954743582\n",
            "NBC 4 at Eleven, with similarity score 784.7819589039738\n",
            "Two and a Half Men, with similarity score 757.6011181024228\n"
          ]
        }
      ]
    },
    {
      "cell_type": "code",
      "source": [
        "top5_ii_indexes = (-Gamma_ii[499, :100]).argsort()[:5]\n",
        "print(\"Tên của 5 chương trình tivi có điểm similarity cao nhất \\nđối với lọc cộng tác theo item-item là:\\n\")\n",
        "for index in top5_ii_indexes:\n",
        "  print(\"{}, with similarity score {}\".format(shows_list[index], Gamma_ii[499, index]))"
      ],
      "metadata": {
        "colab": {
          "base_uri": "https://localhost:8080/"
        },
        "id": "voteg3iR9xJp",
        "outputId": "d3d25d01-279c-4b9d-a53c-a21f04db4d24"
      },
      "execution_count": 9,
      "outputs": [
        {
          "output_type": "stream",
          "name": "stdout",
          "text": [
            "Tên của 5 chương trình tivi có điểm similarity cao nhất \n",
            "đối với lọc cộng tác theo item-item là:\n",
            "\n",
            "FOX 28 News at 10pm, with similarity score 31.364701678342396\n",
            "Family Guy, with similarity score 30.001141798877764\n",
            "NBC 4 at Eleven, with similarity score 29.396797773402543\n",
            "2009 NCAA Basketball Tournament, with similarity score 29.22700156150048\n",
            "Access Hollywood, with similarity score 28.971277674055564\n"
          ]
        }
      ]
    }
  ]
}